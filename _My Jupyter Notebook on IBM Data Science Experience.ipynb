{
 "cells": [
  {
   "cell_type": "markdown",
   "metadata": {},
   "source": [
    "**SominShin** "
   ]
  },
  {
   "cell_type": "markdown",
   "metadata": {},
   "source": [
    "*I am interested in data science because Data science can help reduce overall costs and increase return on investment by limiting wasted resources.*"
   ]
  },
  {
   "cell_type": "markdown",
   "metadata": {},
   "source": [
    "### write \"this is a table\", make a table in cell5"
   ]
  },
  {
   "cell_type": "markdown",
   "metadata": {},
   "source": [
    " | This  | is     | \n",
    " | ----  | ----   | \n",
    " |  a    | table  | "
   ]
  },
  {
   "cell_type": "markdown",
   "metadata": {},
   "source": [
    "**~~ Link ~~**"
   ]
  },
  {
   "cell_type": "markdown",
   "metadata": {},
   "source": [
    "## \\[1\\] [coursera\\]\n",
    "\n",
    "\n",
    "\n",
    "## \\[2\\] [Open Source tools for Data Science\\]\n",
    "\n",
    "   ###   \\[1\\]: [http://www.coursera.org/](http://www.coursera.org/) “coursera”\n",
    "\n",
    "\n",
    "   ###  \\[2\\]: [http://www.coursera.org/learn/open-source-tools-for-data-science/](http://www.coursera.org/learn/open-source-tools-for-data-science/) “Open Source tools for Data Science”"
   ]
  },
  {
   "cell_type": "markdown",
   "metadata": {},
   "source": [
    "<img src=\"https://d3njjcbhbojbot.cloudfront.net/api/utilities/v1/imageproxy/http://coursera-university-assets.s3.amazonaws.com/bb/f5ced2bdd4437aa79f00eb1bf7fbf0/IBM-Logo-Blk---Square.png?auto=format%2Ccompress&dpr=1&w=56px&h=56px&auto=format%2Ccompress&dpr=1&w=&h=\"/>"
   ]
  },
  {
   "cell_type": "code",
   "execution_count": null,
   "metadata": {},
   "outputs": [],
   "source": []
  }
 ],
 "metadata": {
  "kernelspec": {
   "display_name": "Python 3",
   "language": "python",
   "name": "python3"
  },
  "language_info": {
   "codemirror_mode": {
    "name": "ipython",
    "version": 3
   },
   "file_extension": ".py",
   "mimetype": "text/x-python",
   "name": "python",
   "nbconvert_exporter": "python",
   "pygments_lexer": "ipython3",
   "version": "3.7.6"
  }
 },
 "nbformat": 4,
 "nbformat_minor": 4
}
